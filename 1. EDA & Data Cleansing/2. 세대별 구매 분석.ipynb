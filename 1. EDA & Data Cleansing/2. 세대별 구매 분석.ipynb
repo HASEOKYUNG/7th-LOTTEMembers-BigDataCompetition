{
 "cells": [
  {
   "cell_type": "markdown",
   "id": "b321cce6",
   "metadata": {},
   "source": [
    "## Import"
   ]
  },
  {
   "cell_type": "code",
   "execution_count": 1,
   "id": "5fb5ec8f",
   "metadata": {},
   "outputs": [],
   "source": [
    "import numpy as np\n",
    "import pandas as pd\n",
    "import matplotlib.pyplot as plt\n",
    "import matplotlib.ticker as mticker\n",
    "import seaborn as sns\n",
    "plt.rc('font', family='Malgun Gothic')\n",
    "plt.rc('axes', unicode_minus=False)\n",
    "import warnings; warnings.filterwarnings(\"ignore\")"
   ]
  },
  {
   "cell_type": "markdown",
   "id": "a470a219",
   "metadata": {},
   "source": [
    "## Read Data"
   ]
  },
  {
   "cell_type": "code",
   "execution_count": 2,
   "id": "f1543396",
   "metadata": {},
   "outputs": [],
   "source": [
    "data_path = '../data/'\n",
    "\n",
    "pdde = pd.read_csv(data_path+\"DC_LPOINT_PDDE.csv\", parse_dates=['date','de_dt']) # [DC] 유통사 상품 구매 내역"
   ]
  },
  {
   "cell_type": "code",
   "execution_count": 3,
   "id": "8b117271",
   "metadata": {},
   "outputs": [
    {
     "data": {
      "text/html": [
       "<div>\n",
       "<style scoped>\n",
       "    .dataframe tbody tr th:only-of-type {\n",
       "        vertical-align: middle;\n",
       "    }\n",
       "\n",
       "    .dataframe tbody tr th {\n",
       "        vertical-align: top;\n",
       "    }\n",
       "\n",
       "    .dataframe thead th {\n",
       "        text-align: right;\n",
       "    }\n",
       "</style>\n",
       "<table border=\"1\" class=\"dataframe\">\n",
       "  <thead>\n",
       "    <tr style=\"text-align: right;\">\n",
       "      <th></th>\n",
       "      <th>cust</th>\n",
       "      <th>cop_c</th>\n",
       "      <th>chnl_dv</th>\n",
       "      <th>br_c</th>\n",
       "      <th>date</th>\n",
       "      <th>상품종류수</th>\n",
       "      <th>금액</th>\n",
       "      <th>수량</th>\n",
       "      <th>ages</th>\n",
       "    </tr>\n",
       "  </thead>\n",
       "  <tbody>\n",
       "    <tr>\n",
       "      <th>639882</th>\n",
       "      <td>M656822898</td>\n",
       "      <td>A01</td>\n",
       "      <td>1</td>\n",
       "      <td>A010028</td>\n",
       "      <td>2021-04-21 16:00:00</td>\n",
       "      <td>1</td>\n",
       "      <td>78000.0</td>\n",
       "      <td>1</td>\n",
       "      <td>50대</td>\n",
       "    </tr>\n",
       "    <tr>\n",
       "      <th>417818</th>\n",
       "      <td>M425505996</td>\n",
       "      <td>A04</td>\n",
       "      <td>1</td>\n",
       "      <td>A042739</td>\n",
       "      <td>2021-07-08 12:00:00</td>\n",
       "      <td>1</td>\n",
       "      <td>1700.0</td>\n",
       "      <td>2</td>\n",
       "      <td>40대</td>\n",
       "    </tr>\n",
       "    <tr>\n",
       "      <th>520022</th>\n",
       "      <td>M533492280</td>\n",
       "      <td>A02</td>\n",
       "      <td>1</td>\n",
       "      <td>A020099</td>\n",
       "      <td>2021-11-23 18:00:00</td>\n",
       "      <td>3</td>\n",
       "      <td>19810.0</td>\n",
       "      <td>4</td>\n",
       "      <td>40대</td>\n",
       "    </tr>\n",
       "    <tr>\n",
       "      <th>846408</th>\n",
       "      <td>M869872665</td>\n",
       "      <td>A04</td>\n",
       "      <td>1</td>\n",
       "      <td>A042067</td>\n",
       "      <td>2021-03-28 07:00:00</td>\n",
       "      <td>1</td>\n",
       "      <td>40000.0</td>\n",
       "      <td>1</td>\n",
       "      <td>40대</td>\n",
       "    </tr>\n",
       "    <tr>\n",
       "      <th>831328</th>\n",
       "      <td>M854020936</td>\n",
       "      <td>A02</td>\n",
       "      <td>1</td>\n",
       "      <td>A020052</td>\n",
       "      <td>2021-07-17 20:00:00</td>\n",
       "      <td>18</td>\n",
       "      <td>265110.0</td>\n",
       "      <td>56</td>\n",
       "      <td>40대</td>\n",
       "    </tr>\n",
       "  </tbody>\n",
       "</table>\n",
       "</div>"
      ],
      "text/plain": [
       "              cust cop_c  chnl_dv     br_c                date  상품종류수  \\\n",
       "639882  M656822898   A01        1  A010028 2021-04-21 16:00:00      1   \n",
       "417818  M425505996   A04        1  A042739 2021-07-08 12:00:00      1   \n",
       "520022  M533492280   A02        1  A020099 2021-11-23 18:00:00      3   \n",
       "846408  M869872665   A04        1  A042067 2021-03-28 07:00:00      1   \n",
       "831328  M854020936   A02        1  A020052 2021-07-17 20:00:00     18   \n",
       "\n",
       "              금액  수량 ages  \n",
       "639882   78000.0   1  50대  \n",
       "417818    1700.0   2  40대  \n",
       "520022   19810.0   4  40대  \n",
       "846408   40000.0   1  40대  \n",
       "831328  265110.0  56  40대  "
      ]
     },
     "metadata": {},
     "output_type": "display_data"
    }
   ],
   "source": [
    "trade = pdde.groupby(['cust','cop_c','chnl_dv','br_c','date'])\\\n",
    "        .agg({'pd_c':[('상품종류수', pd.Series.nunique)],'buy_am':[('금액', sum)],'buy_ct':[('수량', sum)]})\n",
    "trade.columns = trade.columns.get_level_values(1) ; trade.reset_index(inplace=True)\n",
    "\n",
    "trade = trade.merge(pdde[['cust','ages']].drop_duplicates(), on='cust', how='left')\n",
    "display(trade.sample(5))"
   ]
  },
  {
   "cell_type": "markdown",
   "id": "e9440d09",
   "metadata": {},
   "source": [
    "- MZ세대와 비MZ세대 비교<br>\n",
    "  『강윤지, 김상훈 (2022), \"기업의 ESG 경영에 대한 소비자 인식에 관한 연구 : MZ세대를 중심으로\", 광고학연구 제33권 제3호, p.7-39』는<br>\n",
    "  비MZ세대가 MZ세대에 비해 ESG 경영에 대한 인식이 높으나 ESG 경영에 참여율이 높은 건 MZ세대라 밝혔다. 그리고 그 이유를 MZ세대는 소셜미디어, IT인프라를 활발히 사용해 온라인 공간에서 사회적 문제에 자주 접하고 정보를 쉽게 얻을 수 있는 반면에 비MZ세대는 그렇지 못함을 꼽았다.<br>\n",
    "  MZ세대의 온라인 활동이 활발한 지 살펴본다."
   ]
  },
  {
   "cell_type": "code",
   "execution_count": 4,
   "id": "1b813cbf",
   "metadata": {},
   "outputs": [],
   "source": [
    "# MZ세대는 1980년 이후 출생자로 2021년 당시 42세 이하의 고객들이다.\n",
    "trade['MZ'] = trade['ages'].apply(lambda x: 1 if int(x[0]) < 4 else 0)"
   ]
  },
  {
   "cell_type": "code",
   "execution_count": 5,
   "id": "e1f737e9",
   "metadata": {},
   "outputs": [
    {
     "data": {
      "image/png": "[encoded data removed]",
      "text/plain": [
       "<Figure size 720x288 with 2 Axes>"
      ]
     },
     "metadata": {
      "needs_background": "light"
     },
     "output_type": "display_data"
    }
   ],
   "source": [
    "fig, ax = plt.subplots(1,2, figsize=(10,4), sharex=True, sharey=True)\n",
    "sns.barplot(data=trade.query('chnl_dv==1'), x='MZ', y='금액', ax=ax[0], color='gold')\n",
    "sns.barplot(data=trade.query('chnl_dv==2'), x='MZ', y='금액', ax=ax[1], color='deepskyblue')\n",
    "ax[0].set_title(\"오프라인 평균금액\")\n",
    "ax[0].yaxis.set_major_formatter(mticker.FormatStrFormatter('%i 만원'))\n",
    "ax[1].set_title(\"온라인 평균금액\")\n",
    "plt.xticks([0,1],['비MZ세대','MZ세대'])\n",
    "ax[0].set_xlabel('');ax[1].set_xlabel('')\n",
    "ax[0].set_ylabel(\"평균금액\");ax[1].set_ylabel('')\n",
    "plt.show()"
   ]
  },
  {
   "cell_type": "markdown",
   "id": "94c6abc7",
   "metadata": {},
   "source": [
    "- MZ세대와 비MZ세대간 비교"
   ]
  },
  {
   "cell_type": "code",
   "execution_count": 9,
   "id": "6877d6e4",
   "metadata": {},
   "outputs": [
    {
     "data": {
      "image/png": "[encoded data removed]",
      "text/plain": [
       "<Figure size 432x288 with 1 Axes>"
      ]
     },
     "metadata": {
      "needs_background": "light"
     },
     "output_type": "display_data"
    }
   ],
   "source": [
    "# MZ세대이면 온라인을, 비MZ세대이면 오프라인을 주로 이용할 것이라 추측한 바와 다르게 도출된다.\n",
    "use = pd.pivot_table(trade, index='MZ', columns='chnl_dv', values='금액', aggfunc=np.size, margins=True)\n",
    "use.divide(use['All'], axis=0).iloc[:-1, :-1].plot.bar(stacked=True, color=['gray','brown'])\n",
    "plt.xticks([0,1],['비MZ세대','MZ세대'])\n",
    "plt.xlabel('')\n",
    "plt.legend(['오프라인','온라인'], bbox_to_anchor=(1,1))\n",
    "plt.show()"
   ]
  },
  {
   "cell_type": "markdown",
   "id": "0f645ede",
   "metadata": {},
   "source": [
    "- 연령대간의 비교"
   ]
  },
  {
   "cell_type": "code",
   "execution_count": 10,
   "id": "2cd9c4e9",
   "metadata": {},
   "outputs": [
    {
     "data": {
      "image/png": "[encoded data removed]",
      "text/plain": [
       "<Figure size 432x288 with 1 Axes>"
      ]
     },
     "metadata": {
      "needs_background": "light"
     },
     "output_type": "display_data"
    }
   ],
   "source": [
    "use = pd.pivot_table(trade, index='ages',columns='chnl_dv',values='금액',aggfunc=np.size,margins=True)\n",
    "use.divide(use['All'], axis=0).iloc[:-1,:-1].plot.bar(stacked=True, title=\"온/오프라인 이용률\", color=['gray','brown'])\n",
    "plt.legend(['오프라인','온라인'], bbox_to_anchor=(1,1))\n",
    "plt.show()"
   ]
  },
  {
   "cell_type": "code",
   "execution_count": 11,
   "id": "2e3a073f",
   "metadata": {},
   "outputs": [
    {
     "data": {
      "image/png": "[encoded data removed]",
      "text/plain": [
       "<Figure size 720x288 with 2 Axes>"
      ]
     },
     "metadata": {
      "needs_background": "light"
     },
     "output_type": "display_data"
    }
   ],
   "source": [
    "fig, ax = plt.subplots(1,2, figsize=(10,4), sharex=True, sharey=True)\n",
    "sns.barplot(data=trade.query('chnl_dv==1'), x='ages', y='금액', ax=ax[0], color='gray')\n",
    "sns.barplot(data=trade.query('chnl_dv==2'), x='ages', y='금액', ax=ax[1], color='brown')\n",
    "ax[0].set_title(\"오프라인 평균금액\")\n",
    "ax[1].set_title(\"온라인 평균금액\")\n",
    "plt.show()"
   ]
  },
  {
   "cell_type": "code",
   "execution_count": null,
   "id": "bed2bf45",
   "metadata": {},
   "outputs": [],
   "source": []
  }
 ],
 "metadata": {
  "kernelspec": {
   "display_name": "Python 3 (ipykernel)",
   "language": "python",
   "name": "python3"
  },
  "language_info": {
   "codemirror_mode": {
    "name": "ipython",
    "version": 3
   },
   "file_extension": ".py",
   "mimetype": "text/x-python",
   "name": "python",
   "nbconvert_exporter": "python",
   "pygments_lexer": "ipython3",
   "version": "3.9.7"
  }
 },
 "nbformat": 4,
 "nbformat_minor": 5
}
