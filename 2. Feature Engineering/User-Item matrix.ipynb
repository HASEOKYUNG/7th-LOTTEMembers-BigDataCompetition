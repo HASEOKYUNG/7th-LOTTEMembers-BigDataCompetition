{
 "cells": [
  {
   "cell_type": "markdown",
   "id": "1dd0eed4",
   "metadata": {},
   "source": [
    "## Import"
   ]
  },
  {
   "cell_type": "code",
   "execution_count": 1,
   "id": "30a79fcb",
   "metadata": {},
   "outputs": [],
   "source": [
    "# basic libray\n",
    "import pickle\n",
    "import numpy as np\n",
    "import random\n",
    "random.seed(0)\n",
    "import pandas as pd\n",
    "import warnings; warnings.filterwarnings(\"ignore\")\n",
    "\n",
    "# surprise Library import\n",
    "from surprise import Dataset\n",
    "from surprise import Reader"
   ]
  },
  {
   "cell_type": "markdown",
   "id": "9cb5d8f1",
   "metadata": {},
   "source": [
    "## Read data"
   ]
  },
  {
   "cell_type": "code",
   "execution_count": 2,
   "id": "eb547c99",
   "metadata": {},
   "outputs": [],
   "source": [
    "data_path = '../data/'\n",
    "\n",
    "pdde = pd.read_csv(data_path + \"DC_LPOINT_PDDE.csv\")                # [DC] 유통사 상품 구매 내역"
   ]
  },
  {
   "cell_type": "markdown",
   "id": "ade3d05f",
   "metadata": {},
   "source": [
    "## Selection\n",
    "연관규칙탐사(장바구니 분석)은 한 결제 내 같이 산 상품들간의 연관성을 분석한다.<br>\n",
    "영수증 번호가 같은 구매내역을 한 결제로 보았으나 영수증 번호당 구매한 상품항목 종류수를 구하였을 때 한 상품항목만 구매한 데이터가 압도적으로 많다.<br>\n",
    "이에 `고객`별 `제휴사, 채널, 매장, 날짜, 시간`이 같은 구매내역을 한 결제로 보고 한 결제당 상품항목종류수가 2 이상인 데이터만을 사용하도록 한다."
   ]
  },
  {
   "cell_type": "code",
   "execution_count": 3,
   "id": "379e3515",
   "metadata": {},
   "outputs": [
    {
     "data": {
      "text/plain": [
       "1    736960\n",
       "2    144685\n",
       "3     87047\n",
       "4     60980\n",
       "5     46372\n",
       "Name: pd_c, dtype: int64"
      ]
     },
     "metadata": {},
     "output_type": "display_data"
    },
    {
     "name": "stdout",
     "output_type": "stream",
     "text": [
      "연관분석에 부합하지 않는 데이터수: 736960\n"
     ]
    },
    {
     "data": {
      "text/plain": [
       "1    679751\n",
       "2     57209\n",
       "Name: chnl_dv, dtype: int64"
      ]
     },
     "metadata": {},
     "output_type": "display_data"
    },
    {
     "name": "stdout",
     "output_type": "stream",
     "text": [
      "연관분석에 부합하는 데이터수: 529629\n"
     ]
    },
    {
     "data": {
      "text/plain": [
       "1    489148\n",
       "2     40481\n",
       "Name: chnl_dv, dtype: int64"
      ]
     },
     "metadata": {},
     "output_type": "display_data"
    }
   ],
   "source": [
    "# 영수증 번호가 같은 구매내역을 동일한 결제로 볼 경우의 결제당 상품항목종류수\n",
    "set_rct = pdde.groupby('rct_no')['pd_c'].nunique()\n",
    "set_rct = pd.merge(set_rct.reset_index(), pdde.drop_duplicates('rct_no')[['rct_no','chnl_dv']], on='rct_no')\n",
    "\n",
    "display(set_rct.pd_c.value_counts().head())\n",
    "print('연관분석에 부합하지 않는 데이터수:', set_rct[set_rct['pd_c'] == 1].shape[0])\n",
    "display(set_rct[set_rct['pd_c'] == 1].chnl_dv.value_counts())\n",
    "print('연관분석에 부합하는 데이터수:', set_rct[set_rct['pd_c'] > 1].shape[0])\n",
    "display(set_rct[set_rct['pd_c'] > 1].chnl_dv.value_counts())"
   ]
  },
  {
   "cell_type": "code",
   "execution_count": 4,
   "id": "f011112d",
   "metadata": {},
   "outputs": [
    {
     "data": {
      "text/plain": [
       "1    469024\n",
       "2    181353\n",
       "3    100529\n",
       "4     65879\n",
       "5     48386\n",
       "Name: pd_c, dtype: int64"
      ]
     },
     "metadata": {},
     "output_type": "display_data"
    },
    {
     "name": "stdout",
     "output_type": "stream",
     "text": [
      "연관분석에 부합하지 않는 데이터수: 469024\n"
     ]
    },
    {
     "data": {
      "text/plain": [
       "1    418996\n",
       "2     50028\n",
       "Name: chnl_dv, dtype: int64"
      ]
     },
     "metadata": {},
     "output_type": "display_data"
    },
    {
     "name": "stdout",
     "output_type": "stream",
     "text": [
      "연관분석에 부합하는 데이터수: 592412\n"
     ]
    },
    {
     "data": {
      "text/plain": [
       "1    551112\n",
       "2     41300\n",
       "Name: chnl_dv, dtype: int64"
      ]
     },
     "metadata": {},
     "output_type": "display_data"
    }
   ],
   "source": [
    "# 고객, 제휴사, 채널, 매장, 날짜, 시간이 같은 구매내역을 동일한 결제로 볼 때의 결제당 상품항목종류수\n",
    "pdde.br_c.fillna('ONLINE', inplace=True)\n",
    "set_info = pdde.groupby(['cust','cop_c','chnl_dv','br_c','de_dt','de_hr'])['pd_c'].nunique()\n",
    "\n",
    "display(set_info.value_counts().head())\n",
    "print('연관분석에 부합하지 않는 데이터수:', set_info[set_info == 1].shape[0])\n",
    "display(set_info[set_info == 1].reset_index().chnl_dv.value_counts())\n",
    "print('연관분석에 부합하는 데이터수:', set_info[set_info > 1].shape[0])\n",
    "display(set_info[set_info > 1].reset_index().chnl_dv.value_counts())"
   ]
  },
  {
   "cell_type": "code",
   "execution_count": 5,
   "id": "60a56ca6",
   "metadata": {},
   "outputs": [],
   "source": [
    "# 조건에 부합한 데이터만 다룬다.\n",
    "ease = set_info[set_info > 1].index\n",
    "pdde = pdde.set_index(['cust','cop_c','chnl_dv','br_c','de_dt','de_hr']).loc[ease].reset_index()"
   ]
  },
  {
   "cell_type": "markdown",
   "id": "ab240cff",
   "metadata": {},
   "source": [
    "## User-item 행렬\n",
    "[참고] https://ok-lab.tistory.com/93"
   ]
  },
  {
   "cell_type": "code",
   "execution_count": 6,
   "id": "b0f88eb1",
   "metadata": {},
   "outputs": [
    {
     "data": {
      "text/html": [
       "<div>\n",
       "<style scoped>\n",
       "    .dataframe tbody tr th:only-of-type {\n",
       "        vertical-align: middle;\n",
       "    }\n",
       "\n",
       "    .dataframe tbody tr th {\n",
       "        vertical-align: top;\n",
       "    }\n",
       "\n",
       "    .dataframe thead th {\n",
       "        text-align: right;\n",
       "    }\n",
       "</style>\n",
       "<table border=\"1\" class=\"dataframe\">\n",
       "  <thead>\n",
       "    <tr style=\"text-align: right;\">\n",
       "      <th></th>\n",
       "      <th>custID</th>\n",
       "      <th>item</th>\n",
       "      <th>buy_ct</th>\n",
       "    </tr>\n",
       "  </thead>\n",
       "  <tbody>\n",
       "    <tr>\n",
       "      <th>17</th>\n",
       "      <td>M000034966</td>\n",
       "      <td>가공조미료</td>\n",
       "      <td>0.049180</td>\n",
       "    </tr>\n",
       "    <tr>\n",
       "      <th>25</th>\n",
       "      <td>M000034966</td>\n",
       "      <td>간장</td>\n",
       "      <td>0.016393</td>\n",
       "    </tr>\n",
       "    <tr>\n",
       "      <th>30</th>\n",
       "      <td>M000034966</td>\n",
       "      <td>감자스낵</td>\n",
       "      <td>0.032787</td>\n",
       "    </tr>\n",
       "    <tr>\n",
       "      <th>109</th>\n",
       "      <td>M000034966</td>\n",
       "      <td>과일음료</td>\n",
       "      <td>0.016393</td>\n",
       "    </tr>\n",
       "    <tr>\n",
       "      <th>142</th>\n",
       "      <td>M000034966</td>\n",
       "      <td>국산맥주</td>\n",
       "      <td>0.098361</td>\n",
       "    </tr>\n",
       "  </tbody>\n",
       "</table>\n",
       "</div>"
      ],
      "text/plain": [
       "         custID   item    buy_ct\n",
       "17   M000034966  가공조미료  0.049180\n",
       "25   M000034966     간장  0.016393\n",
       "30   M000034966   감자스낵  0.032787\n",
       "109  M000034966   과일음료  0.016393\n",
       "142  M000034966   국산맥주  0.098361"
      ]
     },
     "execution_count": 6,
     "metadata": {},
     "output_type": "execute_result"
    }
   ],
   "source": [
    "# surprise 패키지 input을 위해 user-item 행렬 만들기 (surprise 패키지는 행렬의 unstack형식 사용)\n",
    "user_item_matrix = pd.pivot_table(data = pdde, index = \"pd_nm\", columns = \"cust\",\n",
    "                    values = \"buy_ct\", aggfunc = \"sum\")   # 고객의 상품별 구매횟수 -> 상품에 대한 호감도 -> 평점데이터 대체\n",
    "user_item_matrix = user_item_matrix.apply(lambda x : x/x.sum())  # 고객별 구매횟수에 대한 정규화\n",
    "user_item_matrix = user_item_matrix.unstack().reset_index().rename(columns = {'cust':\"custID\", \"pd_nm\":\"item\", 0:\"buy_ct\"})\n",
    "user_item_matrix = user_item_matrix.dropna()\n",
    "user_item_matrix.head(5)"
   ]
  },
  {
   "cell_type": "markdown",
   "id": "393b2a6b",
   "metadata": {},
   "source": [
    "## 변환\n",
    "suprise 패키지의 input용으로 데이터 자료형을 변경한다."
   ]
  },
  {
   "cell_type": "code",
   "execution_count": 7,
   "id": "7394d401",
   "metadata": {},
   "outputs": [],
   "source": [
    "# 변환 전에 main.ipynb에서 모델을 적용해볼 고객 10명 추출한다.\n",
    "val_cust_list = []\n",
    "for _ in range(10):\n",
    "    val_cust_list.append(pdde.cust.unique()[random.randint(0, pdde.cust.nunique())])\n",
    "    \n",
    "user_item_matrix.query(\"custID in @val_cust_list\").to_csv(data_path + \"simulation/collab_fitering_valset.csv\")"
   ]
  },
  {
   "cell_type": "code",
   "execution_count": 8,
   "id": "eecffbe6",
   "metadata": {},
   "outputs": [],
   "source": [
    "# surprise 패키지 input용으로 data 변환한다.\n",
    "input_data = user_item_matrix.query(\"custID not in @val_cust_list\")\n",
    "reader = Reader(rating_scale=(0.0, 1.))\n",
    "data = Dataset.load_from_df(input_data, reader)"
   ]
  },
  {
   "cell_type": "markdown",
   "id": "c5a644ae",
   "metadata": {},
   "source": [
    "## Save Data"
   ]
  },
  {
   "cell_type": "code",
   "execution_count": 9,
   "id": "60c6c88f",
   "metadata": {},
   "outputs": [],
   "source": [
    "pickle.dump(data, open(data_path+'user-item matrix', 'wb'))"
   ]
  },
  {
   "cell_type": "code",
   "execution_count": null,
   "id": "a68b2b1e",
   "metadata": {},
   "outputs": [],
   "source": []
  },
  {
   "cell_type": "code",
   "execution_count": null,
   "id": "16b7d36d",
   "metadata": {},
   "outputs": [],
   "source": []
  }
 ],
 "metadata": {
  "kernelspec": {
   "display_name": "Python 3 (ipykernel)",
   "language": "python",
   "name": "python3"
  },
  "language_info": {
   "codemirror_mode": {
    "name": "ipython",
    "version": 3
   },
   "file_extension": ".py",
   "mimetype": "text/x-python",
   "name": "python",
   "nbconvert_exporter": "python",
   "pygments_lexer": "ipython3",
   "version": "3.9.7"
  }
 },
 "nbformat": 4,
 "nbformat_minor": 5
}
