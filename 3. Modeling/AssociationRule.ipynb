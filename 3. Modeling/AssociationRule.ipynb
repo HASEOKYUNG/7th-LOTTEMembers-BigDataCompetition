{
 "cells": [
  {
   "cell_type": "markdown",
   "id": "6db22f3a",
   "metadata": {},
   "source": [
    "## Import"
   ]
  },
  {
   "cell_type": "code",
   "execution_count": 1,
   "id": "7aa3ea09",
   "metadata": {},
   "outputs": [],
   "source": [
    "import pandas as pd\n",
    "import numpy as np\n",
    "import warnings ; warnings.filterwarnings(\"ignore\")\n",
    "\n",
    "from mlxtend.frequent_patterns import apriori, association_rules\n",
    "from mlxtend.preprocessing import TransactionEncoder"
   ]
  },
  {
   "cell_type": "markdown",
   "id": "1daa3cca",
   "metadata": {},
   "source": [
    "## Read data"
   ]
  },
  {
   "cell_type": "code",
   "execution_count": 2,
   "id": "3755292d",
   "metadata": {},
   "outputs": [],
   "source": [
    "data_path = \"../data\"\n",
    "\n",
    "pdde = pd.read_csv(data_path + \"DC_LPOINT_PDDE.csv\") "
   ]
  },
  {
   "cell_type": "markdown",
   "id": "ac6b6a4c",
   "metadata": {},
   "source": [
    "## 장바구니 분석을 통한 상품추천\n",
    "#### def __init__()\n",
    "1) 초기값으로 상품구매데이터 : self.data\n",
    "\n",
    "2) def make_basket()\n",
    "  - 입력된 data로 장바구니(basket)생성\n",
    "  - 같은 상품대분류(clac_hlv_nm)에 속한 상품들끼리의 집합\n",
    "  - 같은 영수증 번호를 가진 상품 (같은 결제 내역에 포함된 상품)\n",
    "    $\\rightarrow$ 같은 영수증번호에 있는 상품들 중 같은 대분류에 해당하는 상품들끼리 장바구니 생성\n",
    "\n",
    "3) def make_support_score()\n",
    "   - make_basket()에서 생성된 장바구니(basket)을 통해 장바구니 분석 진행\n",
    "   - 지지도와 해당하는 장바구니를 return\n",
    "\n",
    "4) make_basket으로 장바구니 초깃값 생성 : self.basket\n",
    "5) make_support_score로 초깃값 생성 : self.support\n",
    "\n",
    "#### def pro_recommend()\n",
    "초깃값에서 생성된 support_score를 바탕으로 입력된 product와 지지도가 형성된 상품 추천"
   ]
  },
  {
   "cell_type": "code",
   "execution_count": 4,
   "id": "d135ae2f",
   "metadata": {},
   "outputs": [],
   "source": [
    "class support():\n",
    "    def __init__(self, data):\n",
    "        self.data = data\n",
    "\n",
    "        def make_basket(self):\n",
    "            clacs_ = list(self.data.clac_mcls_nm.unique())\n",
    "            basket = pd.DataFrame()\n",
    "            for clac in clacs_:\n",
    "                df = self.data.query(\"clac_mcls_nm == @clac & clac_hlv_nm != '담배'\").groupby(\n",
    "                    ['cust', \"de_dt\", \"de_hr\", \"cop_c\"]).pd_nm.apply(lambda x : list(x)).reset_index()\n",
    "                df[\"pd_nm\"] = df[\"pd_nm\"].apply(lambda x : list(set(x)))\n",
    "                df[\"cnt\"] = df[\"pd_nm\"].apply(lambda x : len(x))\n",
    "                df = df.query(\"cnt > 1\")\n",
    "                df[\"clac_mcls_nm\"] = clac\n",
    "                basket = pd.concat([basket, df])\n",
    "            return basket\n",
    "\n",
    "        def make_support_score(self, basket):\n",
    "            support = pd.DataFrame()\n",
    "            for clac in basket.clac_mcls_nm.unique():\n",
    "                lst = []\n",
    "                for j in basket.query(\"clac_mcls_nm == @clac\").pd_nm.values:\n",
    "                    lst.append(j)\n",
    "                te = TransactionEncoder()\n",
    "                te_ary = te.fit_transform(lst)\n",
    "                df = pd.DataFrame(te_ary, columns=te.columns_)\n",
    "                frequent_itemsets = apriori(df, min_support=0.2, use_colnames=True)\n",
    "                frequent_itemsets[\"clac_mcls_nm\"] = clac\n",
    "                support = pd.concat([support, frequent_itemsets])\n",
    "                support[\"cnt\"] = support[\"itemsets\"].apply(lambda x : len(list(x)))\n",
    "                support = support.query(\"cnt > 1\")\n",
    "                support[\"itemsets\"] = support[\"itemsets\"].apply(lambda x : list(x))\n",
    "            return support\n",
    "        \n",
    "        self.basket = make_basket(self)\n",
    "        self.support = make_support_score(self, self.basket)\n",
    "    \n",
    "    def pro_recommend(self, product):\n",
    "        lst_ = []\n",
    "        for i in range(self.support.shape[0]):\n",
    "            if product in self.support.iloc[i, 1]:\n",
    "                lst_.append(i)\n",
    "        pro_ = []\n",
    "        for i in self.support.iloc[lst_, 1].values:\n",
    "            pr = i.copy(); pr.remove(product)\n",
    "            pro_.extend(pr)\n",
    "        print(pro_, \"를 추천드립니다\")"
   ]
  },
  {
   "cell_type": "code",
   "execution_count": 5,
   "id": "1b689a0c",
   "metadata": {},
   "outputs": [
    {
     "name": "stdout",
     "output_type": "stream",
     "text": [
      "['남성남방셔츠'] 를 추천드립니다\n"
     ]
    }
   ],
   "source": [
    "if __name__ == \"__main__\":\n",
    "    product = \"남성티셔츠\"\n",
    "    recommend_class = support(pdde)\n",
    "    recommend_class.pro_recommend(product)"
   ]
  },
  {
   "cell_type": "code",
   "execution_count": null,
   "id": "17a540c3",
   "metadata": {},
   "outputs": [],
   "source": []
  }
 ],
 "metadata": {
  "kernelspec": {
   "display_name": "Python 3 (ipykernel)",
   "language": "python",
   "name": "python3"
  },
  "language_info": {
   "codemirror_mode": {
    "name": "ipython",
    "version": 3
   },
   "file_extension": ".py",
   "mimetype": "text/x-python",
   "name": "python",
   "nbconvert_exporter": "python",
   "pygments_lexer": "ipython3",
   "version": "3.9.12"
  }
 },
 "nbformat": 4,
 "nbformat_minor": 5
}
