{
 "cells": [
  {
   "cell_type": "markdown",
   "id": "6cadec14",
   "metadata": {},
   "source": [
    "## Import"
   ]
  },
  {
   "cell_type": "code",
   "execution_count": null,
   "id": "2f71606f",
   "metadata": {},
   "outputs": [],
   "source": [
    "# basic libray\n",
    "import pickle\n",
    "import numpy as np\n",
    "import pandas as pd\n",
    "import warnings; warnings.filterwarnings(\"ignore\")\n",
    "\n",
    "# surprise Library import\n",
    "from surprise import Dataset\n",
    "from surprise import Reader\n",
    "from surprise import SVD, SVDpp, SlopeOne, NMF, NormalPredictor\n",
    "from surprise import KNNBasic,KNNBaseline, KNNWithMeans, KNNWithZScore, BaselineOnly, CoClustering\n",
    "from surprise.model_selection import cross_validate\n",
    "from surprise.model_selection import GridSearchCV\n",
    "\n",
    "# model save\n",
    "import joblib"
   ]
  },
  {
   "cell_type": "markdown",
   "id": "9cb5d8f1",
   "metadata": {},
   "source": [
    "## Read data"
   ]
  },
  {
   "cell_type": "code",
   "execution_count": null,
   "id": "5d2032fb",
   "metadata": {},
   "outputs": [],
   "source": [
    "data_path = '../data/'\n",
    "\n",
    "data = pickle.load(open(data_path+'user-item matrix', 'rb'))"
   ]
  },
  {
   "cell_type": "markdown",
   "id": "9e146c69",
   "metadata": {},
   "source": [
    "## Cross validation"
   ]
  },
  {
   "cell_type": "code",
   "execution_count": null,
   "id": "e0a13865",
   "metadata": {},
   "outputs": [],
   "source": [
    "benchmark = []\n",
    "# 모든 알고리즘을 literate화 시켜서 반복문을 실행시킨다.\n",
    "for algorithm in [SVD(), SVDpp(), SlopeOne(), NMF(), NormalPredictor(), KNNBaseline(),\n",
    "                  KNNBasic(), KNNWithMeans(), KNNWithZScore(), BaselineOnly(), CoClustering()]:\n",
    "    \n",
    "    # 교차검증을 수행하는 단계.\n",
    "    results = cross_validate(algorithm, data, measures=['RMSE'], cv=3, verbose=False)\n",
    "    \n",
    "    # 결과 저장과 알고리즘 이름 추가.\n",
    "    tmp = pd.DataFrame.from_dict(results).mean(axis=0)\n",
    "    tmp = tmp.append(pd.Series([str(algorithm).split(' ')[0].split('.')[-1]], index=['Algorithm']))\n",
    "    benchmark.append(tmp)\n",
    "    \n",
    "pd.DataFrame(benchmark).set_index('Algorithm').sort_values('test_rmse')    "
   ]
  },
  {
   "cell_type": "markdown",
   "id": "2a258e42",
   "metadata": {},
   "source": [
    "* 각 모델별 교차검증 점수에 따르면 BaselineOnly 모델의 test_rmse와 fit_timed이 압도적이므로 최종 모델로 선택한다.\n",
    "* 하지만 주어진 데이터셋을 넘어 대용량 데이터셋 이용을 위해 메모리 절약 효과가 있는 SVD(잠재요인 추출) 모델 또한 선택한다."
   ]
  },
  {
   "cell_type": "markdown",
   "id": "e9169824",
   "metadata": {},
   "source": [
    "## Hyperparameters tunning"
   ]
  },
  {
   "cell_type": "code",
   "execution_count": null,
   "id": "9b75bd6f",
   "metadata": {},
   "outputs": [],
   "source": [
    "# 이제 trainset과 testset 전체를 사용하여 학습하기 위해 trainset을 전체로 변환\n",
    "trainset = data.build_full_trainset()"
   ]
  },
  {
   "cell_type": "code",
   "execution_count": null,
   "id": "5b931266",
   "metadata": {},
   "outputs": [],
   "source": [
    "# SVD 모델에 대해 GridSearch를 사용한 교차검증 rmse를 사용해 하이퍼파라미터 선정\n",
    "# n_epochs: SGD 수행 시 반복 횟수, n_factors: 잠재 요인 크기\n",
    "param_grid = {\n",
    "    'n_epochs': [20, 40, 60], \n",
    "    'n_factors': [50, 100, 200]\n",
    "}\n",
    "\n",
    "# GridSearchCV\n",
    "gs = GridSearchCV(SVD, param_grid, measures=['rmse', 'mae'], cv=3) \n",
    "gs.fit(data)\n",
    "\n",
    "# 최적 하이퍼 파라미터 및 그 때의 최고 성능\n",
    "print(gs.best_params['rmse'])\n",
    "print(gs.best_score['rmse'])"
   ]
  },
  {
   "cell_type": "code",
   "execution_count": null,
   "id": "6596c494",
   "metadata": {},
   "outputs": [],
   "source": [
    "# BaselinOnly 모델과 최적 하아퍼파라미터를 적용한 SVD 모델 학습\n",
    "base = BaselineOnly(); svd = SVD(**gs.best_params['rmse'])\n",
    "base.fit(trainset); svd.fit(trainset)"
   ]
  },
  {
   "cell_type": "markdown",
   "id": "d77c2c4e",
   "metadata": {},
   "source": [
    "## Save model"
   ]
  },
  {
   "cell_type": "code",
   "execution_count": null,
   "id": "ca452e0b",
   "metadata": {},
   "outputs": [],
   "source": [
    "model_path = '../data/model'\n",
    "joblib.dump(base, data_path + 'base.pkl')\n",
    "joblib.dump(svd, data_path + 'svd.pkl')"
   ]
  },
  {
   "cell_type": "code",
   "execution_count": null,
   "id": "2746b79d",
   "metadata": {},
   "outputs": [],
   "source": []
  }
 ],
 "metadata": {
  "kernelspec": {
   "display_name": "Python 3 (ipykernel)",
   "language": "python",
   "name": "python3"
  },
  "language_info": {
   "codemirror_mode": {
    "name": "ipython",
    "version": 3
   },
   "file_extension": ".py",
   "mimetype": "text/x-python",
   "name": "python",
   "nbconvert_exporter": "python",
   "pygments_lexer": "ipython3",
   "version": "3.9.7"
  }
 },
 "nbformat": 4,
 "nbformat_minor": 5
}
